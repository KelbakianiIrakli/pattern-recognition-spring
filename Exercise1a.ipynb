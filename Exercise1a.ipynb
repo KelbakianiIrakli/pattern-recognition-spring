{
 "cells": [
  {
   "cell_type": "code",
   "execution_count": 1,
   "metadata": {},
   "outputs": [],
   "source": [
    "import os\n",
    "import csv\n",
    "import collections\n",
    "import pandas as pd\n",
    "import numpy as np\n",
    "    \n",
    "file_dir_train = os.path.join(os.getcwd(), 'train.csv')\n",
    "file_dir_test = os.path.join(os.getcwd(), 'test.csv')\n",
    "df_train = pd.read_csv(file_dir_train)\n",
    "df_test = pd.read_csv(file_dir_test)"
   ]
  },
  {
   "cell_type": "code",
   "execution_count": 2,
   "metadata": {},
   "outputs": [
    {
     "name": "stdout",
     "output_type": "stream",
     "text": [
      "k= 1, metric = Euclidean, Accuracy: 0.9386666666666666\n",
      "k= 1, metric = Manhattan, Accuracy: 0.9286666666666666\n",
      "k= 3, metric = Euclidean, Accuracy: 0.9376666666666666\n",
      "k= 3, metric = Manhattan, Accuracy: 0.9273333333333333\n",
      "k= 5, metric = Euclidean, Accuracy: 0.9376666666666666\n",
      "k= 5, metric = Manhattan, Accuracy: 0.925\n",
      "k= 10, metric = Euclidean, Accuracy: 0.931\n",
      "k= 10, metric = Manhattan, Accuracy: 0.9166666666666666\n",
      "k= 15, metric = Euclidean, Accuracy: 0.9223333333333333\n",
      "k= 15, metric = Manhattan, Accuracy: 0.9073333333333333\n"
     ]
    }
   ],
   "source": [
    "class KNearestNeighbor:\n",
    "    def __init__(self, k):\n",
    "        self.k = k\n",
    "\n",
    "    def train(self, X, y):\n",
    "        self.X_train = X\n",
    "        self.y_train = y\n",
    "\n",
    "    def predict(self, X_test, distance=0):\n",
    "        if(distance ==\"Euclidean\"):\n",
    "            distances = self.compute_euclidean_distance(X_test)\n",
    "        elif(distance ==\"Manhattan\"):\n",
    "            distances = self.compute_manhattan_distance(X_test)\n",
    "\n",
    "        return self.predict_labels(distances)\n",
    "\n",
    "    def compute_euclidean_distance(self, X_test):\n",
    "\n",
    "        num_test = X_test.shape[0]\n",
    "        num_train = self.X_train.shape[0]\n",
    "        distances = np.zeros((num_test, num_train))\n",
    "\n",
    "        for i in range(num_test):\n",
    "            for j in range(num_train):\n",
    "                distances[i, j] = np.linalg.norm(X_test[i, :]-self.X_train[j, :])\n",
    "\n",
    "        return distances\n",
    "\n",
    "    def compute_manhattan_distance(self, X_test):\n",
    "\n",
    "        num_test = X_test.shape[0]\n",
    "        num_train = self.X_train.shape[0]\n",
    "        distances = np.zeros((num_test, num_train))\n",
    "\n",
    "        for i in range(num_test):\n",
    "            for j in range(num_train):\n",
    "                distances[i, j] = sum(abs(X_test[i, :]-self.X_train[j, :]))\n",
    "\n",
    "        return distances\n",
    "\n",
    "\n",
    "    def predict_labels(self, distances):\n",
    "        num_test = distances.shape[0]\n",
    "        y_pred = np.zeros(num_test)\n",
    "\n",
    "        for i in range(num_test):\n",
    "            y_indices = np.argsort(distances[i, :])\n",
    "            k_closest_classes = self.y_train[y_indices[: self.k]].astype(int)\n",
    "            y_pred[i] = np.argmax(np.bincount(k_closest_classes))\n",
    "\n",
    "        return y_pred\n",
    "\n",
    "\n",
    "if __name__ == \"__main__\":\n",
    "    K = [1, 3, 5, 10, 15]\n",
    "    X_train = np.array(df_train.iloc[:,1:])\n",
    "    y_train = np.array(df_train.iloc[:,0])\n",
    "    X_test= np.array(df_test.iloc[:,1:])\n",
    "    y_test = np.array(df_test.iloc[:,0])\n",
    "    metric = [\"Euclidean\", \"Manhattan\"]\n",
    "    accuracy  = []\n",
    "    for k in K:\n",
    "        KNN = KNearestNeighbor(k=k)\n",
    "        KNN.train(X_train, y_train)\n",
    "        for m in metric:\n",
    "            y_pred = KNN.predict(X_test, m)\n",
    "            acc = (sum(y_pred == y_test)) / y_test.shape[0]\n",
    "            print(f\"k= {k}, metric = {m}, Accuracy: {acc}\")"
   ]
  },
  {
   "cell_type": "code",
   "execution_count": null,
   "metadata": {},
   "outputs": [],
   "source": []
  }
 ],
 "metadata": {
  "kernelspec": {
   "display_name": "Python 3",
   "language": "python",
   "name": "python3"
  },
  "language_info": {
   "codemirror_mode": {
    "name": "ipython",
    "version": 3
   },
   "file_extension": ".py",
   "mimetype": "text/x-python",
   "name": "python",
   "nbconvert_exporter": "python",
   "pygments_lexer": "ipython3",
   "version": "3.8.8"
  }
 },
 "nbformat": 4,
 "nbformat_minor": 2
}
